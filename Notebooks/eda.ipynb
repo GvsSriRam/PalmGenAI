{
 "cells": [
  {
   "cell_type": "code",
   "execution_count": 8,
   "metadata": {},
   "outputs": [
    {
     "name": "stdout",
     "output_type": "stream",
     "text": [
      "(150, 150)\n",
      "1\n"
     ]
    }
   ],
   "source": [
    "# Load images from a directory and create a label based on the file name\n",
    "# The label is the first 3 characters of the file name\n",
    "\n",
    "import os\n",
    "import cv2\n",
    "import numpy as np\n",
    "import random\n",
    "import pickle\n",
    "\n",
    "# Load images from a directory\n",
    "def load_images_from_dir(directory):\n",
    "    images = []\n",
    "    labels = []\n",
    "    count = 0\n",
    "    for filename in os.listdir(directory):\n",
    "        if filename.endswith(\".bmp\"):\n",
    "            img = cv2.imread(directory + \"/\" + filename, cv2.IMREAD_GRAYSCALE)\n",
    "            print(img.shape)\n",
    "            # img = cv2.resize(img, (64, 64))\n",
    "            images.append(img)\n",
    "            labels.append(filename[:3])\n",
    "            count += 1\n",
    "    print(count)\n",
    "    return images, labels\n",
    "\n",
    "imgs, labels = load_images_from_dir(\"/Users/gvssriram/Desktop/MS/sem-3/Biometrics/Project/Datasets/IITD Palmprint V1/Segmented/Left\")"
   ]
  },
  {
   "cell_type": "code",
   "execution_count": null,
   "metadata": {},
   "outputs": [],
   "source": []
  }
 ],
 "metadata": {
  "kernelspec": {
   "display_name": "bio_project_env",
   "language": "python",
   "name": "python3"
  },
  "language_info": {
   "codemirror_mode": {
    "name": "ipython",
    "version": 3
   },
   "file_extension": ".py",
   "mimetype": "text/x-python",
   "name": "python",
   "nbconvert_exporter": "python",
   "pygments_lexer": "ipython3",
   "version": "3.11.5"
  }
 },
 "nbformat": 4,
 "nbformat_minor": 2
}
